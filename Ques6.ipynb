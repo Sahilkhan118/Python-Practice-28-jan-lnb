{
 "cells": [
  {
   "attachments": {},
   "cell_type": "markdown",
   "metadata": {},
   "source": [
    "# Write a NumPy program to test whether none of the elements of a given array is zero.\n"
   ]
  },
  {
   "cell_type": "code",
   "execution_count": 13,
   "metadata": {},
   "outputs": [],
   "source": [
    "import numpy as np"
   ]
  },
  {
   "cell_type": "code",
   "execution_count": 14,
   "metadata": {},
   "outputs": [],
   "source": [
    "arr = np.array([0, 1,2, 5, 23, 0, 4, 0 , 2, 1,2,1, 3,0, 0, 0, 2, 33, 22, 1, 2, 5])"
   ]
  },
  {
   "cell_type": "code",
   "execution_count": 15,
   "metadata": {},
   "outputs": [
    {
     "data": {
      "text/plain": [
       "array([ 0,  1,  2,  5, 23,  0,  4,  0,  2,  1,  2,  1,  3,  0,  0,  0,  2,\n",
       "       33, 22,  1,  2,  5])"
      ]
     },
     "execution_count": 15,
     "metadata": {},
     "output_type": "execute_result"
    }
   ],
   "source": [
    "arr"
   ]
  },
  {
   "cell_type": "code",
   "execution_count": 17,
   "metadata": {},
   "outputs": [
    {
     "name": "stdout",
     "output_type": "stream",
     "text": [
      "the given array has 6 Zeros in it.\n"
     ]
    }
   ],
   "source": [
    "num_zero = np.count_nonzero(arr == 0)\n",
    "if num_zero != 0:\n",
    "    print(f'the given array has {num_zero} Zeros in it.')\n",
    "else :\n",
    "    print('The given array has no Zero.')"
   ]
  },
  {
   "cell_type": "code",
   "execution_count": null,
   "metadata": {},
   "outputs": [],
   "source": []
  }
 ],
 "metadata": {
  "kernelspec": {
   "display_name": "Python 3",
   "language": "python",
   "name": "python3"
  },
  "language_info": {
   "codemirror_mode": {
    "name": "ipython",
    "version": 3
   },
   "file_extension": ".py",
   "mimetype": "text/x-python",
   "name": "python",
   "nbconvert_exporter": "python",
   "pygments_lexer": "ipython3",
   "version": "3.10.9"
  },
  "orig_nbformat": 4,
  "vscode": {
   "interpreter": {
    "hash": "5b410524a434d2a44288c77808dfb99f4b7615170af7462352ea0883e572ef2e"
   }
  }
 },
 "nbformat": 4,
 "nbformat_minor": 2
}
